{
 "cells": [
  {
   "cell_type": "markdown",
   "metadata": {},
   "source": [
    "**THIS KERNAL IS BLEND OF **\n",
    "So awesome kernels present Right now \n",
    "\n",
    "**vote if you love blend**\n",
    "\n",
    "1. https://www.kaggle.com/raghaw/ensemble-on-fire {already blended}\n",
    "2. https://www.kaggle.com/vincentlugat/ieee-lgb-bayesian-opt/output {lgb+bayesian}\n",
    "3. https://www.kaggle.com/ryches/keras-nn-starter-w-time-series-split/output {Keras NN}\n",
    "4. https://www.kaggle.com/timon88/lgbm-baseline-small-fe-no-blend/output {lgbm+fe}"
   ]
  },
  {
   "cell_type": "markdown",
   "metadata": {},
   "source": [
    "## phase 1 [Ensemble]\n",
    "\n",
    "\n"
   ]
  },
  {
   "cell_type": "code",
   "execution_count": 1,
   "metadata": {
    "_cell_guid": "b1076dfc-b9ad-4769-8c92-a6c4dae69d19",
    "_uuid": "8f2839f25d086af736a60e9eeb907d3b93b6e0e5"
   },
   "outputs": [
    {
     "name": "stdout",
     "output_type": "stream",
     "text": [
      "ieee-blend\n",
      "ieee-fraud-detection\n",
      "\n"
     ]
    }
   ],
   "source": [
    "# This Python 3 environment comes with many helpful analytics libraries installed\n",
    "# It is defined by the kaggle/python docker image: https://github.com/kaggle/docker-python\n",
    "# For example, here's several helpful packages to load in \n",
    "\n",
    "import numpy as np # linear algebra\n",
    "import pandas as pd # data processing, CSV file I/O (e.g. pd.read_csv)\n",
    "import seaborn as sns\n",
    "import matplotlib.pyplot as plt\n",
    "# Input data files are available in the \"../input/\" directory.\n",
    "# For example, running this (by clicking run or pressing Shift+Enter) will list the files in the input directory\n",
    "\n",
    "import os\n",
    "\n",
    "%matplotlib inline\n",
    "from subprocess import check_output\n",
    "print(check_output([\"ls\", \"../input\"]).decode(\"utf8\"))\n",
    "# Any results you write to the current directory are saved as output."
   ]
  },
  {
   "cell_type": "code",
   "execution_count": 2,
   "metadata": {
    "_cell_guid": "79c7e3d0-c299-4dcb-8224-4455121ee9b0",
    "_uuid": "d629ff2d2480ee46fbb7e2d37f6b5fab8052498a"
   },
   "outputs": [],
   "source": [
    "sub1 = pd.read_csv('../input/ieee-blend/lgb_sub.csv')\n",
    "sub2 = pd.read_csv('../input/ieee-blend/submission_IEEE (1).csv')\n",
    "sub3 = pd.read_csv('../input/ieee-blend/submission_IEEE.csv')\n",
    "sub4 = pd.read_csv('../input/ieee-blend/submission.csv')\n",
    "temp=pd.read_csv('../input/ieee-blend/lgb_sub.csv')"
   ]
  },
  {
   "cell_type": "markdown",
   "metadata": {},
   "source": [
    "**Hist Graph of scores**"
   ]
  },
  {
   "cell_type": "code",
   "execution_count": 3,
   "metadata": {},
   "outputs": [
    {
     "data": {
      "image/png": "[encoded data removed]",
      "text/plain": [
       "<Figure size 432x288 with 1 Axes>"
      ]
     },
     "metadata": {},
     "output_type": "display_data"
    }
   ],
   "source": [
    "sns.set()\n",
    "plt.hist(sub1['isFraud'],bins=100)\n",
    "plt.show()"
   ]
  },
  {
   "cell_type": "code",
   "execution_count": 4,
   "metadata": {},
   "outputs": [
    {
     "data": {
      "image/png": "[encoded data removed]",
      "text/plain": [
       "<Figure size 432x288 with 1 Axes>"
      ]
     },
     "metadata": {},
     "output_type": "display_data"
    }
   ],
   "source": [
    "sns.set()\n",
    "plt.hist(sub2['isFraud'],bins=100)\n",
    "plt.show()"
   ]
  },
  {
   "cell_type": "code",
   "execution_count": 5,
   "metadata": {},
   "outputs": [
    {
     "data": {
      "image/png": "[encoded data removed]",
      "text/plain": [
       "<Figure size 432x288 with 1 Axes>"
      ]
     },
     "metadata": {},
     "output_type": "display_data"
    }
   ],
   "source": [
    "sns.set()\n",
    "plt.hist(sub3['isFraud'],bins=100)\n",
    "plt.show()"
   ]
  },
  {
   "cell_type": "code",
   "execution_count": 6,
   "metadata": {},
   "outputs": [
    {
     "data": {
      "image/png": "[encoded data removed]",
      "text/plain": [
       "<Figure size 432x288 with 1 Axes>"
      ]
     },
     "metadata": {},
     "output_type": "display_data"
    }
   ],
   "source": [
    "sns.set()\n",
    "plt.hist(sub4['isFraud'],bins=100)\n",
    "plt.show()"
   ]
  },
  {
   "cell_type": "code",
   "execution_count": 7,
   "metadata": {},
   "outputs": [],
   "source": [
    "#temp['isFraud'] = 0.35*sub1['isFraud'] + 0.30*sub2['isFraud'] + 0.25*sub3['isFraud'] + 0.10*sub4['isFraud'] \n",
    "#temp.to_csv('submission8.csv', index=False )"
   ]
  },
  {
   "cell_type": "code",
   "execution_count": 8,
   "metadata": {},
   "outputs": [],
   "source": [
    "temp['isFraud'] = 0.60*sub4['isFraud'] + 0.40*sub3['isFraud']\n",
    "temp.to_csv('submission_p2_1.csv', index=False )"
   ]
  },
  {
   "cell_type": "markdown",
   "metadata": {},
   "source": [
    "## phase 2 [Stacking]\n",
    "\n"
   ]
  },
  {
   "cell_type": "code",
   "execution_count": 9,
   "metadata": {},
   "outputs": [
    {
     "data": {
      "text/plain": [
       "['lgb_sub.csv',\n",
       " 'submission.csv',\n",
       " 'submission_IEEE (1).csv',\n",
       " 'submission_IEEE.csv']"
      ]
     },
     "execution_count": 9,
     "metadata": {},
     "output_type": "execute_result"
    }
   ],
   "source": [
    "sub_path = \"../input/ieee-blend\"\n",
    "all_files = os.listdir(sub_path)\n",
    "all_files"
   ]
  },
  {
   "cell_type": "code",
   "execution_count": 10,
   "metadata": {},
   "outputs": [],
   "source": [
    "outs = [pd.read_csv(os.path.join(sub_path, f), index_col=0) for f in all_files]\n",
    "concat_sub = pd.concat(outs, axis=1)\n",
    "cols = list(map(lambda x: \"ieee\" + str(x), range(len(concat_sub.columns))))\n",
    "concat_sub.columns = cols\n",
    "concat_sub.reset_index(inplace=True)\n",
    "concat_sub.head()\n",
    "ncol = concat_sub.shape[1]"
   ]
  },
  {
   "cell_type": "code",
   "execution_count": 11,
   "metadata": {},
   "outputs": [
    {
     "data": {
      "text/html": [
       "<div>\n",
       "<style scoped>\n",
       "    .dataframe tbody tr th:only-of-type {\n",
       "        vertical-align: middle;\n",
       "    }\n",
       "\n",
       "    .dataframe tbody tr th {\n",
       "        vertical-align: top;\n",
       "    }\n",
       "\n",
       "    .dataframe thead th {\n",
       "        text-align: right;\n",
       "    }\n",
       "</style>\n",
       "<table border=\"1\" class=\"dataframe\">\n",
       "  <thead>\n",
       "    <tr style=\"text-align: right;\">\n",
       "      <th></th>\n",
       "      <th>ieee0</th>\n",
       "      <th>ieee1</th>\n",
       "      <th>ieee2</th>\n",
       "      <th>ieee3</th>\n",
       "    </tr>\n",
       "  </thead>\n",
       "  <tbody>\n",
       "    <tr>\n",
       "      <th>ieee0</th>\n",
       "      <td>1.000000</td>\n",
       "      <td>0.989236</td>\n",
       "      <td>0.862600</td>\n",
       "      <td>0.972463</td>\n",
       "    </tr>\n",
       "    <tr>\n",
       "      <th>ieee1</th>\n",
       "      <td>0.989236</td>\n",
       "      <td>1.000000</td>\n",
       "      <td>0.877087</td>\n",
       "      <td>0.976163</td>\n",
       "    </tr>\n",
       "    <tr>\n",
       "      <th>ieee2</th>\n",
       "      <td>0.862600</td>\n",
       "      <td>0.877087</td>\n",
       "      <td>1.000000</td>\n",
       "      <td>0.857479</td>\n",
       "    </tr>\n",
       "    <tr>\n",
       "      <th>ieee3</th>\n",
       "      <td>0.972463</td>\n",
       "      <td>0.976163</td>\n",
       "      <td>0.857479</td>\n",
       "      <td>1.000000</td>\n",
       "    </tr>\n",
       "  </tbody>\n",
       "</table>\n",
       "</div>"
      ],
      "text/plain": [
       "          ieee0     ieee1     ieee2     ieee3\n",
       "ieee0  1.000000  0.989236  0.862600  0.972463\n",
       "ieee1  0.989236  1.000000  0.877087  0.976163\n",
       "ieee2  0.862600  0.877087  1.000000  0.857479\n",
       "ieee3  0.972463  0.976163  0.857479  1.000000"
      ]
     },
     "execution_count": 11,
     "metadata": {},
     "output_type": "execute_result"
    }
   ],
   "source": [
    "# check correlation\n",
    "concat_sub.iloc[:,1:ncol].corr()"
   ]
  },
  {
   "cell_type": "code",
   "execution_count": 12,
   "metadata": {},
   "outputs": [
    {
     "data": {
      "text/plain": [
       "<matplotlib.axes._subplots.AxesSubplot at 0x7fa840d526d8>"
      ]
     },
     "execution_count": 12,
     "metadata": {},
     "output_type": "execute_result"
    },
    {
     "data": {
      "image/png": "[encoded data removed]",
      "text/plain": [
       "<Figure size 792x648 with 2 Axes>"
      ]
     },
     "metadata": {},
     "output_type": "display_data"
    }
   ],
   "source": [
    "corr = concat_sub.iloc[:,1:7].corr()\n",
    "mask = np.zeros_like(corr, dtype=np.bool)\n",
    "mask[np.triu_indices_from(mask)] = True\n",
    "\n",
    "# Set up the matplotlib figure\n",
    "f, ax = plt.subplots(figsize=(11, 9))\n",
    "\n",
    "# Generate a custom diverging colormap\n",
    "cmap = sns.diverging_palette(220, 10, as_cmap=True)\n",
    "\n",
    "# Draw the heatmap with the mask and correct aspect ratio\n",
    "sns.heatmap(corr, mask=mask, cmap=cmap, vmax=.3, center=0,\n",
    "            square=True, linewidths=.5, cbar_kws={\"shrink\": .5})"
   ]
  },
  {
   "cell_type": "code",
   "execution_count": 13,
   "metadata": {},
   "outputs": [],
   "source": [
    "# get the data fields ready for stacking\n",
    "concat_sub['ieee_max'] = concat_sub.iloc[:, 1:ncol].max(axis=1)\n",
    "concat_sub['ieee_min'] = concat_sub.iloc[:, 1:ncol].min(axis=1)\n",
    "concat_sub['ieee_mean'] = concat_sub.iloc[:, 1:ncol].mean(axis=1)\n",
    "concat_sub['ieee_median'] = concat_sub.iloc[:, 1:ncol].median(axis=1)"
   ]
  },
  {
   "cell_type": "code",
   "execution_count": 14,
   "metadata": {},
   "outputs": [
    {
     "data": {
      "text/html": [
       "<div>\n",
       "<style scoped>\n",
       "    .dataframe tbody tr th:only-of-type {\n",
       "        vertical-align: middle;\n",
       "    }\n",
       "\n",
       "    .dataframe tbody tr th {\n",
       "        vertical-align: top;\n",
       "    }\n",
       "\n",
       "    .dataframe thead th {\n",
       "        text-align: right;\n",
       "    }\n",
       "</style>\n",
       "<table border=\"1\" class=\"dataframe\">\n",
       "  <thead>\n",
       "    <tr style=\"text-align: right;\">\n",
       "      <th></th>\n",
       "      <th>TransactionID</th>\n",
       "      <th>ieee0</th>\n",
       "      <th>ieee1</th>\n",
       "      <th>ieee2</th>\n",
       "      <th>ieee3</th>\n",
       "      <th>ieee_max</th>\n",
       "      <th>ieee_min</th>\n",
       "      <th>ieee_mean</th>\n",
       "      <th>ieee_median</th>\n",
       "    </tr>\n",
       "  </thead>\n",
       "  <tbody>\n",
       "    <tr>\n",
       "      <th>count</th>\n",
       "      <td>5.066910e+05</td>\n",
       "      <td>506691.000000</td>\n",
       "      <td>506691.000000</td>\n",
       "      <td>506691.000000</td>\n",
       "      <td>506691.000000</td>\n",
       "      <td>506691.000000</td>\n",
       "      <td>506691.000000</td>\n",
       "      <td>506691.000000</td>\n",
       "      <td>506691.000000</td>\n",
       "    </tr>\n",
       "    <tr>\n",
       "      <th>mean</th>\n",
       "      <td>3.916894e+06</td>\n",
       "      <td>0.022757</td>\n",
       "      <td>0.025622</td>\n",
       "      <td>0.031531</td>\n",
       "      <td>0.017290</td>\n",
       "      <td>0.038097</td>\n",
       "      <td>0.013972</td>\n",
       "      <td>0.024300</td>\n",
       "      <td>0.022566</td>\n",
       "    </tr>\n",
       "    <tr>\n",
       "      <th>std</th>\n",
       "      <td>1.462692e+05</td>\n",
       "      <td>0.111319</td>\n",
       "      <td>0.111939</td>\n",
       "      <td>0.109611</td>\n",
       "      <td>0.106956</td>\n",
       "      <td>0.126103</td>\n",
       "      <td>0.091450</td>\n",
       "      <td>0.106724</td>\n",
       "      <td>0.109073</td>\n",
       "    </tr>\n",
       "    <tr>\n",
       "      <th>min</th>\n",
       "      <td>3.663549e+06</td>\n",
       "      <td>0.000108</td>\n",
       "      <td>0.000114</td>\n",
       "      <td>0.000000</td>\n",
       "      <td>0.000012</td>\n",
       "      <td>0.000128</td>\n",
       "      <td>0.000000</td>\n",
       "      <td>0.000068</td>\n",
       "      <td>0.000070</td>\n",
       "    </tr>\n",
       "    <tr>\n",
       "      <th>25%</th>\n",
       "      <td>3.790222e+06</td>\n",
       "      <td>0.001082</td>\n",
       "      <td>0.001513</td>\n",
       "      <td>0.000735</td>\n",
       "      <td>0.000287</td>\n",
       "      <td>0.002145</td>\n",
       "      <td>0.000214</td>\n",
       "      <td>0.001178</td>\n",
       "      <td>0.001011</td>\n",
       "    </tr>\n",
       "    <tr>\n",
       "      <th>50%</th>\n",
       "      <td>3.916894e+06</td>\n",
       "      <td>0.002363</td>\n",
       "      <td>0.003451</td>\n",
       "      <td>0.004247</td>\n",
       "      <td>0.000665</td>\n",
       "      <td>0.006201</td>\n",
       "      <td>0.000575</td>\n",
       "      <td>0.003167</td>\n",
       "      <td>0.002453</td>\n",
       "    </tr>\n",
       "    <tr>\n",
       "      <th>75%</th>\n",
       "      <td>4.043566e+06</td>\n",
       "      <td>0.006379</td>\n",
       "      <td>0.009051</td>\n",
       "      <td>0.017300</td>\n",
       "      <td>0.001899</td>\n",
       "      <td>0.020679</td>\n",
       "      <td>0.001665</td>\n",
       "      <td>0.009433</td>\n",
       "      <td>0.006891</td>\n",
       "    </tr>\n",
       "    <tr>\n",
       "      <th>max</th>\n",
       "      <td>4.170239e+06</td>\n",
       "      <td>0.998761</td>\n",
       "      <td>0.998628</td>\n",
       "      <td>0.999999</td>\n",
       "      <td>0.999561</td>\n",
       "      <td>0.999999</td>\n",
       "      <td>0.998067</td>\n",
       "      <td>0.998512</td>\n",
       "      <td>0.998499</td>\n",
       "    </tr>\n",
       "  </tbody>\n",
       "</table>\n",
       "</div>"
      ],
      "text/plain": [
       "       TransactionID          ieee0          ieee1          ieee2  \\\n",
       "count   5.066910e+05  506691.000000  506691.000000  506691.000000   \n",
       "mean    3.916894e+06       0.022757       0.025622       0.031531   \n",
       "std     1.462692e+05       0.111319       0.111939       0.109611   \n",
       "min     3.663549e+06       0.000108       0.000114       0.000000   \n",
       "25%     3.790222e+06       0.001082       0.001513       0.000735   \n",
       "50%     3.916894e+06       0.002363       0.003451       0.004247   \n",
       "75%     4.043566e+06       0.006379       0.009051       0.017300   \n",
       "max     4.170239e+06       0.998761       0.998628       0.999999   \n",
       "\n",
       "               ieee3       ieee_max       ieee_min      ieee_mean  \\\n",
       "count  506691.000000  506691.000000  506691.000000  506691.000000   \n",
       "mean        0.017290       0.038097       0.013972       0.024300   \n",
       "std         0.106956       0.126103       0.091450       0.106724   \n",
       "min         0.000012       0.000128       0.000000       0.000068   \n",
       "25%         0.000287       0.002145       0.000214       0.001178   \n",
       "50%         0.000665       0.006201       0.000575       0.003167   \n",
       "75%         0.001899       0.020679       0.001665       0.009433   \n",
       "max         0.999561       0.999999       0.998067       0.998512   \n",
       "\n",
       "         ieee_median  \n",
       "count  506691.000000  \n",
       "mean        0.022566  \n",
       "std         0.109073  \n",
       "min         0.000070  \n",
       "25%         0.001011  \n",
       "50%         0.002453  \n",
       "75%         0.006891  \n",
       "max         0.998499  "
      ]
     },
     "execution_count": 14,
     "metadata": {},
     "output_type": "execute_result"
    }
   ],
   "source": [
    "concat_sub.describe()"
   ]
  },
  {
   "cell_type": "code",
   "execution_count": 15,
   "metadata": {},
   "outputs": [],
   "source": [
    "cutoff_lo = 0.7\n",
    "cutoff_hi = 0.3"
   ]
  },
  {
   "cell_type": "code",
   "execution_count": 16,
   "metadata": {},
   "outputs": [],
   "source": [
    "concat_sub['isFraud'] = concat_sub['ieee_mean']\n",
    "concat_sub[['TransactionID', 'isFraud']].to_csv('stack_mean.csv', \n",
    "                                        index=False, float_format='%.6f')"
   ]
  },
  {
   "cell_type": "code",
   "execution_count": 17,
   "metadata": {},
   "outputs": [],
   "source": [
    "concat_sub['isFraud'] = concat_sub['ieee_median']\n",
    "concat_sub[['TransactionID', 'isFraud']].to_csv('stack_median.csv', \n",
    "                                        index=False, float_format='%.6f')\n"
   ]
  },
  {
   "cell_type": "code",
   "execution_count": 18,
   "metadata": {},
   "outputs": [],
   "source": [
    "concat_sub['isFraud'] = np.where(np.all(concat_sub.iloc[:,1:ncol] > cutoff_lo, axis=1), 1, \n",
    "                                    np.where(np.all(concat_sub.iloc[:,1:ncol] < cutoff_hi, axis=1),\n",
    "                                             0, concat_sub['ieee_median']))\n",
    "concat_sub[['TransactionID', 'isFraud']].to_csv('stack_pushout_median.csv', \n",
    "                                        index=False, float_format='%.6f')"
   ]
  },
  {
   "cell_type": "code",
   "execution_count": 19,
   "metadata": {},
   "outputs": [],
   "source": [
    "concat_sub['isFraud'] = np.where(np.all(concat_sub.iloc[:,1:ncol] > cutoff_lo, axis=1), \n",
    "                                    concat_sub['ieee_max'], \n",
    "                                    np.where(np.all(concat_sub.iloc[:,1:ncol] < cutoff_hi, axis=1),\n",
    "                                             concat_sub['ieee_min'], \n",
    "                                             concat_sub['ieee_mean']))\n",
    "concat_sub[['TransactionID', 'isFraud']].to_csv('stack_minmax_mean.csv', \n",
    "                                        index=False, float_format='%.6f')"
   ]
  },
  {
   "cell_type": "code",
   "execution_count": 20,
   "metadata": {},
   "outputs": [],
   "source": [
    "concat_sub['isFraud'] = np.where(np.all(concat_sub.iloc[:,1:ncol] > cutoff_lo, axis=1), \n",
    "                                    concat_sub['ieee_max'], \n",
    "                                    np.where(np.all(concat_sub.iloc[:,1:ncol] < cutoff_hi, axis=1),\n",
    "                                             concat_sub['ieee_min'], \n",
    "                                             concat_sub['ieee_median']))\n",
    "concat_sub[['TransactionID', 'isFraud']].to_csv('stack_minmax_median.csv', \n",
    "                                        index=False, float_format='%.6f')"
   ]
  },
  {
   "cell_type": "code",
   "execution_count": 21,
   "metadata": {},
   "outputs": [],
   "source": [
    "sub_base = pd.read_csv('../input/ieee-blend/lgb_sub.csv')"
   ]
  },
  {
   "cell_type": "code",
   "execution_count": 22,
   "metadata": {},
   "outputs": [],
   "source": [
    "concat_sub['ieee_base'] = sub_base['isFraud']\n",
    "concat_sub['isFraud'] = np.where(np.all(concat_sub.iloc[:,1:ncol] > cutoff_lo, axis=1), \n",
    "                                    concat_sub['ieee_max'], \n",
    "                                    np.where(np.all(concat_sub.iloc[:,1:ncol] < cutoff_hi, axis=1),\n",
    "                                             concat_sub['ieee_min'], \n",
    "                                             concat_sub['ieee_base']))\n",
    "concat_sub[['TransactionID', 'isFraud']].to_csv('stack_minmax_bestbase.csv', \n",
    "                                        index=False, float_format='%.6f')"
   ]
  },
  {
   "cell_type": "markdown",
   "metadata": {},
   "source": [
    "**submission_p2_1.csv tops the chart**\n",
    "**vote if you love blend**"
   ]
  }
 ],
 "metadata": {
  "kernelspec": {
   "display_name": "Python 3",
   "language": "python",
   "name": "python3"
  },
  "language_info": {
   "codemirror_mode": {
    "name": "ipython",
    "version": 3
   },
   "file_extension": ".py",
   "mimetype": "text/x-python",
   "name": "python",
   "nbconvert_exporter": "python",
   "pygments_lexer": "ipython3",
   "version": "3.6.6"
  }
 },
 "nbformat": 4,
 "nbformat_minor": 1
}
