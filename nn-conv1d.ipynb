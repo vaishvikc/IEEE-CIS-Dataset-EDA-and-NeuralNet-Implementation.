{
 "cells": [
  {
   "cell_type": "code",
   "execution_count": 1,
   "metadata": {
    "_kg_hide-output": true
   },
   "outputs": [
    {
     "name": "stderr",
     "output_type": "stream",
     "text": [
      "Using TensorFlow backend.\n"
     ]
    }
   ],
   "source": [
    "import pandas as pd\n",
    "import numpy as np\n",
    "from sklearn.preprocessing import MinMaxScaler,StandardScaler\n",
    "from keras.models import Sequential\n",
    "from keras.layers import Dense,Dropout\n",
    "import keras"
   ]
  },
  {
   "cell_type": "code",
   "execution_count": 2,
   "metadata": {},
   "outputs": [],
   "source": [
    "X_train=pd.read_pickle('../input/ieee-fe-data/X_train.pkl')\n",
    "test=pd.read_pickle('../input/ieee-fe-data/test.pkl')\n",
    "y_train=pd.read_pickle('../input/ieee-fe-data/y_train.pkl')"
   ]
  },
  {
   "cell_type": "code",
   "execution_count": 3,
   "metadata": {},
   "outputs": [
    {
     "name": "stdout",
     "output_type": "stream",
     "text": [
      "(590540, 428) (506691, 428) (590540,)\n"
     ]
    }
   ],
   "source": [
    "print(X_train.shape,test.shape,y_train.shape)"
   ]
  },
  {
   "cell_type": "code",
   "execution_count": 4,
   "metadata": {},
   "outputs": [],
   "source": [
    "num_preds = 5\n",
    "num_features = test.shape[1]\n",
    "learning_rate_init = 0.02\n",
    "\n",
    "def get_model():\n",
    "    inp = keras.layers.Input((num_features,))\n",
    "    x = keras.layers.Reshape((num_features,1))(inp)\n",
    "    x = keras.layers.Conv1D(32,num_preds, activation='elu')(x)\n",
    "    x = keras.layers.BatchNormalization()(x)\n",
    "    x = keras.layers.Conv1D(24,1, activation='elu')(x)\n",
    "    x = keras.layers.BatchNormalization()(x)\n",
    "    x = keras.layers.Conv1D(16,1, activation='elu')(x)\n",
    "    x = keras.layers.BatchNormalization()(x)\n",
    "    x = keras.layers.Conv1D(4,1, activation='elu')(x)\n",
    "    x = keras.layers.Flatten()(x)\n",
    "    x = keras.layers.BatchNormalization()(x)\n",
    "    out = keras.layers.Dense(1, activation='sigmoid')(x)\n",
    "    return keras.Model(inputs=inp, outputs=out)\n"
   ]
  },
  {
   "cell_type": "code",
   "execution_count": 5,
   "metadata": {},
   "outputs": [
    {
     "name": "stdout",
     "output_type": "stream",
     "text": [
      "Epoch 1/150\n",
      "590540/590540 [==============================] - 40s 68us/step - loss: 0.1146 - acc: 0.9688\n",
      "Epoch 2/150\n",
      "590540/590540 [==============================] - 34s 58us/step - loss: 0.0995 - acc: 0.9728\n",
      "Epoch 3/150\n",
      "590540/590540 [==============================] - 34s 58us/step - loss: 0.0972 - acc: 0.9734\n",
      "Epoch 4/150\n",
      "590540/590540 [==============================] - 34s 58us/step - loss: 0.0956 - acc: 0.9737\n",
      "Epoch 5/150\n",
      "590540/590540 [==============================] - 34s 58us/step - loss: 0.0946 - acc: 0.9739\n",
      "Epoch 6/150\n",
      "590540/590540 [==============================] - 34s 58us/step - loss: 0.0939 - acc: 0.9741\n",
      "Epoch 7/150\n",
      "590540/590540 [==============================] - 34s 58us/step - loss: 0.0932 - acc: 0.9743\n",
      "Epoch 8/150\n",
      "590540/590540 [==============================] - 34s 58us/step - loss: 0.0924 - acc: 0.9746\n",
      "Epoch 9/150\n",
      "590540/590540 [==============================] - 34s 58us/step - loss: 0.0922 - acc: 0.9745\n",
      "Epoch 10/150\n",
      "590540/590540 [==============================] - 34s 58us/step - loss: 0.0916 - acc: 0.9748\n",
      "Epoch 11/150\n",
      "590540/590540 [==============================] - 34s 58us/step - loss: 0.0914 - acc: 0.9749\n",
      "Epoch 12/150\n",
      "513200/590540 [=========================>....] - ETA: 4s - loss: 0.0910 - acc: 0.9750"
     ]
    }
   ],
   "source": [
    "# fit the keras model on the dataset\n",
    "\n",
    "model = get_model()\n",
    "model.compile(optimizer='adam', loss='binary_crossentropy', metrics=['accuracy'])\n",
    "\n",
    "model.fit(X_train, y_train, epochs=150, batch_size=400, verbose=1)"
   ]
  },
  {
   "cell_type": "code",
   "execution_count": 6,
   "metadata": {},
   "outputs": [],
   "source": [
    "predictions = model.predict(test,batch_size=2000)"
   ]
  },
  {
   "cell_type": "code",
   "execution_count": 7,
   "metadata": {},
   "outputs": [],
   "source": [
    "sample_submission=pd.read_csv(\"../input/ieee-fraud-detection/sample_submission.csv\")\n",
    "sample_submission['isFraud'] = predictions\n",
    "sample_submission.to_csv('NN_w_conv1.csv',index=False)"
   ]
  },
  {
   "cell_type": "code",
   "execution_count": 8,
   "metadata": {},
   "outputs": [
    {
     "data": {
      "text/plain": [
       "0.000000e+00    1234\n",
       "5.960464e-08     362\n",
       "1.192093e-07     350\n",
       "8.940697e-08     341\n",
       "2.980232e-08     325\n",
       "                ... \n",
       "5.972713e-03       1\n",
       "2.493575e-02       1\n",
       "1.194540e-02       1\n",
       "2.389067e-02       1\n",
       "8.545935e-03       1\n",
       "Name: isFraud, Length: 272893, dtype: int64"
      ]
     },
     "execution_count": 8,
     "metadata": {},
     "output_type": "execute_result"
    }
   ],
   "source": [
    "(sample_submission['isFraud']).value_counts()"
   ]
  }
 ],
 "metadata": {
  "kernelspec": {
   "display_name": "Python 3",
   "language": "python",
   "name": "python3"
  },
  "language_info": {
   "codemirror_mode": {
    "name": "ipython",
    "version": 3
   },
   "file_extension": ".py",
   "mimetype": "text/x-python",
   "name": "python",
   "nbconvert_exporter": "python",
   "pygments_lexer": "ipython3",
   "version": "3.6.6"
  }
 },
 "nbformat": 4,
 "nbformat_minor": 1
}
